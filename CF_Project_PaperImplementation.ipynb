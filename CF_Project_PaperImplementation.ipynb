{
  "nbformat": 4,
  "nbformat_minor": 0,
  "metadata": {
    "colab": {
      "provenance": []
    },
    "kernelspec": {
      "name": "python3",
      "display_name": "Python 3"
    },
    "language_info": {
      "name": "python"
    }
  },
  "cells": [
    {
      "cell_type": "markdown",
      "source": [
        "# Collaborative Filtering\n",
        "# Project\n",
        "\n",
        "## Title: Game Recommendation Prediction"
      ],
      "metadata": {
        "id": "iI4BCsZHcO_0"
      }
    },
    {
      "cell_type": "markdown",
      "source": [
        "#### Samad Shahid (2019446)\n",
        "#### Harshita Gupta (2019467)"
      ],
      "metadata": {
        "id": "QRpjiNcocaW0"
      }
    },
    {
      "cell_type": "code",
      "source": [
        "!pip install scikit-surprise"
      ],
      "metadata": {
        "colab": {
          "base_uri": "https://localhost:8080/"
        },
        "id": "itpyjqM841GS",
        "outputId": "5e991c9b-7189-4640-c196-c20831eb2889"
      },
      "execution_count": null,
      "outputs": [
        {
          "output_type": "stream",
          "name": "stdout",
          "text": [
            "Collecting scikit-surprise\n",
            "  Downloading scikit-surprise-1.1.1.tar.gz (11.8 MB)\n",
            "\u001b[K     |████████████████████████████████| 11.8 MB 4.1 MB/s \n",
            "\u001b[?25hRequirement already satisfied: joblib>=0.11 in /usr/local/lib/python3.7/dist-packages (from scikit-surprise) (1.1.0)\n",
            "Requirement already satisfied: numpy>=1.11.2 in /usr/local/lib/python3.7/dist-packages (from scikit-surprise) (1.21.6)\n",
            "Requirement already satisfied: scipy>=1.0.0 in /usr/local/lib/python3.7/dist-packages (from scikit-surprise) (1.4.1)\n",
            "Requirement already satisfied: six>=1.10.0 in /usr/local/lib/python3.7/dist-packages (from scikit-surprise) (1.15.0)\n",
            "Building wheels for collected packages: scikit-surprise\n",
            "  Building wheel for scikit-surprise (setup.py) ... \u001b[?25l\u001b[?25hdone\n",
            "  Created wheel for scikit-surprise: filename=scikit_surprise-1.1.1-cp37-cp37m-linux_x86_64.whl size=1630165 sha256=3be527729ba0b9bf8c33a1aeac6a8f93a79ba7224541f4f0a54a7e5a7a9216a9\n",
            "  Stored in directory: /root/.cache/pip/wheels/76/44/74/b498c42be47b2406bd27994e16c5188e337c657025ab400c1c\n",
            "Successfully built scikit-surprise\n",
            "Installing collected packages: scikit-surprise\n",
            "Successfully installed scikit-surprise-1.1.1\n"
          ]
        }
      ]
    },
    {
      "cell_type": "code",
      "source": [
        "from __future__ import (absolute_import, division, print_function,\n",
        "                        unicode_literals)\n",
        "\n",
        "import pandas as pd\n",
        "from surprise import SVD\n",
        "from surprise import dataset\n",
        "from surprise import Reader\n",
        "# from surprise import evaluate, print_perf\n",
        "\n",
        "\n",
        "# df = pd.read_csv('/content/drive/MyDrive/CF/500k_data.zip (Unzipped Files)/500k_data.csv')\n",
        "\n",
        "df = pd.read_csv('/content/drive/MyDrive/CF/1m-data.zip (Unzipped Files)/1m_data.csv')\n",
        "\n",
        "# You'll need to create a dummy reader\n",
        "reader = Reader(line_format='user item rating', rating_scale=(1, 5))\n",
        "\n",
        "# Also, a dummy Dataset class\n",
        "class MyDataset(dataset.DatasetAutoFolds):\n",
        "\n",
        "    def __init__(self, df, reader):\n",
        "\n",
        "        self.raw_ratings = [(uid, iid, r, None) for (uid, iid, r) in\n",
        "                            zip(df['steamid'], df['appid'], df['voted_up'])]\n",
        "        self.reader=reader\n",
        "\n",
        "data = MyDataset(df, reader)\n",
        "\n",
        "# You should now be able to use the data object normally.\n",
        "# data.split(n_folds=3)\n",
        "# algo = SVD()\n",
        "# perf = evaluate(algo, data, measures=['RMSE', 'MAE'])\n",
        "# print_perf(perf)"
      ],
      "metadata": {
        "id": "5KHdJeQ_fKHj"
      },
      "execution_count": null,
      "outputs": []
    },
    {
      "cell_type": "code",
      "source": [
        "type(data)"
      ],
      "metadata": {
        "colab": {
          "base_uri": "https://localhost:8080/"
        },
        "id": "IDRNBsM5fmSA",
        "outputId": "418e285f-5eaa-42ee-d120-f140b06036bd"
      },
      "execution_count": null,
      "outputs": [
        {
          "output_type": "execute_result",
          "data": {
            "text/plain": [
              "__main__.MyDataset"
            ]
          },
          "metadata": {},
          "execution_count": 10
        }
      ]
    },
    {
      "cell_type": "code",
      "source": [
        "from google.colab import drive\n",
        "drive.mount('/content/drive')"
      ],
      "metadata": {
        "colab": {
          "base_uri": "https://localhost:8080/"
        },
        "id": "ZTVkWCVU3o-0",
        "outputId": "6db4a70e-5d71-47a4-f8f2-d25179660cc4"
      },
      "execution_count": null,
      "outputs": [
        {
          "output_type": "stream",
          "name": "stdout",
          "text": [
            "Drive already mounted at /content/drive; to attempt to forcibly remount, call drive.mount(\"/content/drive\", force_remount=True).\n"
          ]
        }
      ]
    },
    {
      "cell_type": "code",
      "source": [
        "from surprise import accuracy\n",
        "from sklearn.metrics import mean_absolute_error\n",
        "from surprise.model_selection import train_test_split\n",
        "\n",
        "from surprise.model_selection import cross_validate\n",
        "\n",
        "# sample random trainset and testset\n",
        "# test set is made of 25% of the ratings.\n",
        "trainset, testset = train_test_split(data, test_size=.2, random_state=0)\n",
        "\n",
        "# We'll use the famous SVD algorithm.\n",
        "algo = SVD()\n",
        "\n",
        "# Train the algorithm on the trainset, and predict ratings for the testset\n",
        "# algo.fit(trainset)\n",
        "# predictions = algo.test(testset)\n",
        "\n",
        "# # Then compute RMSE\n",
        "# accuracy.rmse(predictions)\n",
        "cross_validate(algo, data, measures=['RMSE', 'MAE'], cv=5, verbose=True)"
      ],
      "metadata": {
        "colab": {
          "base_uri": "https://localhost:8080/"
        },
        "id": "4eVpHAzxb9YR",
        "outputId": "906b4964-47d5-48c2-c5b0-6afdfcb37eda"
      },
      "execution_count": null,
      "outputs": [
        {
          "output_type": "stream",
          "name": "stdout",
          "text": [
            "Evaluating RMSE, MAE of algorithm SVD on 5 split(s).\n",
            "\n",
            "                  Fold 1  Fold 2  Fold 3  Fold 4  Fold 5  Mean    Std     \n",
            "RMSE (testset)    0.3155  0.3167  0.3158  0.3163  0.3169  0.3162  0.0005  \n",
            "MAE (testset)     0.0995  0.1003  0.0997  0.1001  0.1004  0.1000  0.0003  \n",
            "Fit time          50.87   51.16   51.27   50.84   51.05   51.04   0.16    \n",
            "Test time         2.62    3.10    2.72    2.66    2.66    2.75    0.18    \n"
          ]
        },
        {
          "output_type": "execute_result",
          "data": {
            "text/plain": [
              "{'fit_time': (50.86987376213074,\n",
              "  51.16435265541077,\n",
              "  51.26600503921509,\n",
              "  50.84270143508911,\n",
              "  51.047364473342896),\n",
              " 'test_mae': array([0.09951517, 0.10027022, 0.0997301 , 0.10007026, 0.10041504]),\n",
              " 'test_rmse': array([0.31546007, 0.31665457, 0.31580057, 0.31633874, 0.31688326]),\n",
              " 'test_time': (2.624681234359741,\n",
              "  3.103130578994751,\n",
              "  2.7231218814849854,\n",
              "  2.663783073425293,\n",
              "  2.659667730331421)}"
            ]
          },
          "metadata": {},
          "execution_count": 12
        }
      ]
    },
    {
      "cell_type": "code",
      "source": [
        "import matplotlib.pyplot as plt\n",
        "import numpy as np\n",
        "\n",
        "\n",
        "x = np.array([1,2,3,4,5])\n",
        "y = np.array([0.3155, 0.3157, 0.3163, 0.3176, 0.3163])\n",
        "plt.plot(x, y, color='yellow', marker='o', markersize=5)\n",
        "plt.xlabel(\"Number of folds\")\n",
        "plt.ylabel(\"RMSE values\")\n",
        "plt.title(\"SVD\")\n",
        "plt.show()  # show first chart"
      ],
      "metadata": {
        "colab": {
          "base_uri": "https://localhost:8080/",
          "height": 295
        },
        "id": "e6XVJoO9EJFz",
        "outputId": "10b627d7-df7d-4e2c-e930-11eed77d107b"
      },
      "execution_count": null,
      "outputs": [
        {
          "output_type": "display_data",
          "data": {
            "text/plain": [
              "<Figure size 432x288 with 1 Axes>"
            ],
            "image/png": "[encoded data removed]"
          },
          "metadata": {
            "needs_background": "light"
          }
        }
      ]
    },
    {
      "cell_type": "code",
      "source": [
        "x1 = np.array([1,2,3,4,5])\n",
        "y1 = np.array([0.0995, 0.0997, 0.0999, 0.1008, 0.1000])\n",
        "plt.plot(x1, y1, color='blue', marker='o', markersize=5)\n",
        "plt.xlabel(\"Number of folds\")\n",
        "plt.ylabel(\"MAE values\")\n",
        "plt.title(\"SVD\")\n",
        "plt.show()  # show first chart"
      ],
      "metadata": {
        "colab": {
          "base_uri": "https://localhost:8080/",
          "height": 295
        },
        "id": "iUiGvS0XFszC",
        "outputId": "41a10a4f-0c37-40d2-c729-8ec28997b54d"
      },
      "execution_count": null,
      "outputs": [
        {
          "output_type": "display_data",
          "data": {
            "text/plain": [
              "<Figure size 432x288 with 1 Axes>"
            ],
            "image/png": "[encoded data removed]"
          },
          "metadata": {
            "needs_background": "light"
          }
        }
      ]
    },
    {
      "cell_type": "code",
      "source": [
        "algo = SVD(verbose=True)\n",
        "# algo = NormalPredictor()\n",
        "algo.fit(data.build_full_trainset())\n",
        "\n",
        "# cross_validate(algo, train_data, verbose=True)\n",
        "\n",
        "# print(algo.predict('76561197960675902', '70', r_ui=63, verbose=True))\n",
        "# print(algo.predict('76561197960675902', '4540', r_ui=22, verbose=True))\n",
        "# print(algo.predict('76561197960675902', '550', r_ui=791, verbose=True))\n",
        "# print(algo.predict('76561197960675902', '10190', r_ui=1253, verbose=True))\n",
        "# print(algo.predict('76561197960675902', '10', r_ui=1037, verbose=True))\n",
        "\n",
        "predictions = algo.test(testset)\n",
        "\n",
        "print(accuracy.rmse(predictions))"
      ],
      "metadata": {
        "colab": {
          "base_uri": "https://localhost:8080/"
        },
        "id": "Kn4Eg7Xgb9Jb",
        "outputId": "9b1d162f-73b9-49b6-927f-7338473809b1"
      },
      "execution_count": null,
      "outputs": [
        {
          "output_type": "stream",
          "name": "stdout",
          "text": [
            "Processing epoch 0\n",
            "Processing epoch 1\n",
            "Processing epoch 2\n",
            "Processing epoch 3\n",
            "Processing epoch 4\n",
            "Processing epoch 5\n",
            "Processing epoch 6\n",
            "Processing epoch 7\n",
            "Processing epoch 8\n",
            "Processing epoch 9\n",
            "Processing epoch 10\n",
            "Processing epoch 11\n",
            "Processing epoch 12\n",
            "Processing epoch 13\n",
            "Processing epoch 14\n",
            "Processing epoch 15\n",
            "Processing epoch 16\n",
            "Processing epoch 17\n",
            "Processing epoch 18\n",
            "Processing epoch 19\n",
            "RMSE: 0.3167\n",
            "0.31674911231605263\n"
          ]
        }
      ]
    },
    {
      "cell_type": "code",
      "source": [
        "ub_cos = [0.18142240386434441, 0.17347827985548926, 0.17241981469844322, 0.17041462470507742, 0.16947056021017892]\n",
        "ib_cos = [0.18142330377734452, 0.17087927886549937, 0.1699881469744344, 0.167871462370607743, 0.15687096031027794]\n",
        "# ub_dist = [ 0.17966188729303093, 0.18053917880781695, 0.17795639398783408, 0.17807077086475437, 0.17783108993305888]\n",
        "# ib_dist = [ 0.1876643827702802, 0.18245873330187348, 0.18100270686618442, 0.18029349532633634, 0.18069434750023003]\n",
        "x_axis = [5, 10, 15, 25, 50]"
      ],
      "metadata": {
        "id": "CModi1AcivBL"
      },
      "execution_count": null,
      "outputs": []
    },
    {
      "cell_type": "code",
      "source": [
        "import matplotlib.pyplot as plt\n",
        "plt.xlabel(\"Neighbours(Item based)\")\n",
        "plt.ylabel(\"MAE\")\n",
        "plt.title(\"MAE v k(Pearson)\")\n",
        "plt.plot(x_axis, ub_cos, label = \"User\")\n",
        "plt.plot(x_axis, ib_cos, label = \"Item\")\n",
        "plt.legend()\n",
        "plt.show()\n",
        "\n"
      ],
      "metadata": {
        "colab": {
          "base_uri": "https://localhost:8080/",
          "height": 295
        },
        "id": "Q-CFbI-wvcTA",
        "outputId": "e424c31b-0562-4386-c47f-bde679c45f8b"
      },
      "execution_count": null,
      "outputs": [
        {
          "output_type": "display_data",
          "data": {
            "text/plain": [
              "<Figure size 432x288 with 1 Axes>"
            ],
            "image/png": "[encoded data removed]"
          },
          "metadata": {
            "needs_background": "light"
          }
        }
      ]
    }
  ]
}